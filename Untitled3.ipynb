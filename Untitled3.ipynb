{
  "nbformat": 4,
  "nbformat_minor": 0,
  "metadata": {
    "colab": {
      "name": "Untitled3.ipynb",
      "version": "0.3.2",
      "provenance": [],
      "private_outputs": true,
      "include_colab_link": true
    },
    "kernelspec": {
      "name": "python2",
      "display_name": "Python 2"
    },
    "accelerator": "GPU"
  },
  "cells": [
    {
      "cell_type": "markdown",
      "metadata": {
        "id": "view-in-github",
        "colab_type": "text"
      },
      "source": [
        "<a href=\"https://colab.research.google.com/github/LXW4939/2019_demo_public/blob/master/Untitled3.ipynb\" target=\"_parent\"><img src=\"https://colab.research.google.com/assets/colab-badge.svg\" alt=\"Open In Colab\"/></a>"
      ]
    },
    {
      "cell_type": "code",
      "metadata": {
        "id": "o8swZV7YuJ2c",
        "colab_type": "code",
        "colab": {}
      },
      "source": [
        "import pip\n",
        " \n",
        "try: \n",
        "    __import__('keras')\n",
        "except ImportError: \n",
        "    pip.main(['install', 'keras']) \n",
        "     \n",
        "try: \n",
        "    __import__('h5py')\n",
        "except ImportError: \n",
        "    pip.main(['install', 'h5py']) \n",
        "     "
      ],
      "execution_count": 0,
      "outputs": []
    },
    {
      "cell_type": "code",
      "metadata": {
        "id": "beNwXeXZ0zln",
        "colab_type": "code",
        "colab": {}
      },
      "source": [
        "import numpy as np\n",
        "from numpy import concatenate\n",
        "from matplotlib import pyplot\n",
        "from pandas import read_csv\n",
        "from pandas import DataFrame\n",
        "from pandas import concat\n",
        "import sklearn\n",
        "from  sklearn.preprocessing import MinMaxScaler\n",
        "from sklearn.preprocessing import MinMaxScaler\n",
        "from sklearn.preprocessing import LabelEncoder\n",
        "from sklearn.metrics import mean_squared_error\n",
        "from keras.models import Sequential\n",
        "from keras.layers import Dense\n",
        "from keras.layers import LSTM\n",
        "from keras.callbacks import Callback\n",
        "from keras.models import Sequential\n",
        "from keras.layers import LSTM, Dense, Activation\n",
        "import pickle\n",
        "import matplotlib.pyplot as plt\n",
        "from mpl_toolkits.mplot3d import Axes3D\n",
        "%matplotlib inline"
      ],
      "execution_count": 0,
      "outputs": []
    },
    {
      "cell_type": "code",
      "metadata": {
        "id": "Pii-nSyF1IJh",
        "colab_type": "code",
        "colab": {}
      },
      "source": [
        "!rm watsoniotp.*\n",
        "!wget https://raw.githubusercontent.com/romeokienzler/developerWorks/master/lorenzattractor/watsoniotp.healthy.phase_aligned.pickle\n",
        "!wget https://raw.githubusercontent.com/romeokienzler/developerWorks/master/lorenzattractor/watsoniotp.broken.phase_aligned.pickle\n"
      ],
      "execution_count": 0,
      "outputs": []
    },
    {
      "cell_type": "code",
      "metadata": {
        "id": "9UjIXTJv1Rcq",
        "colab_type": "code",
        "colab": {}
      },
      "source": [
        "data_healthy = pickle.load(open('watsoniotp.healthy.phase_aligned.pickle', 'rb'))\n",
        "data_broken = pickle.load(open('watsoniotp.broken.phase_aligned.pickle', 'rb'))"
      ],
      "execution_count": 0,
      "outputs": []
    },
    {
      "cell_type": "code",
      "metadata": {
        "id": "WGymFtCA4rqg",
        "colab_type": "code",
        "colab": {}
      },
      "source": [
        "data_healthy = data_healthy.reshape(3000,3)\n",
        "data_broken = data_broken.reshape(3000,3)"
      ],
      "execution_count": 0,
      "outputs": []
    },
    {
      "cell_type": "code",
      "metadata": {
        "id": "SF_8fxcm4vgJ",
        "colab_type": "code",
        "colab": {}
      },
      "source": [
        "fig, ax = plt.subplots(num=None, figsize=(14, 6), dpi=80, facecolor='w', edgecolor='k')\n",
        "size = len(data_healthy)\n",
        "#ax.set_ylim(0,energy.max())\n",
        "ax.plot(range(0,size), data_healthy[:,0], '-', color='blue', animated = True, linewidth=1)\n",
        "ax.plot(range(0,size), data_healthy[:,1], '-', color='red', animated = True, linewidth=1)\n",
        "ax.plot(range(0,size), data_healthy[:,2], '-', color='green', animated = True, linewidth=1)"
      ],
      "execution_count": 0,
      "outputs": []
    },
    {
      "cell_type": "code",
      "metadata": {
        "id": "QN3lhNoV40ZT",
        "colab_type": "code",
        "colab": {}
      },
      "source": [
        "fig, ax = plt.subplots(num=None, figsize=(14, 6), dpi=80, facecolor='w', edgecolor='k')\n",
        "size = len(data_healthy)\n",
        "#ax.set_ylim(0,energy.max())\n",
        "ax.plot(range(0,size), data_broken[:,0], '-', color='blue', animated = True, linewidth=1)\n",
        "ax.plot(range(0,size), data_broken[:,1], '-', color='red', animated = True, linewidth=1)\n",
        "ax.plot(range(0,size), data_broken[:,2], '-', color='green', animated = True, linewidth=1)"
      ],
      "execution_count": 0,
      "outputs": []
    },
    {
      "cell_type": "code",
      "metadata": {
        "id": "R6JZMWuc44p4",
        "colab_type": "code",
        "colab": {}
      },
      "source": [
        "data_healthy_fft = np.fft.fft(data_healthy)\n",
        "data_broken_fft = np.fft.fft(data_broken)"
      ],
      "execution_count": 0,
      "outputs": []
    },
    {
      "cell_type": "code",
      "metadata": {
        "id": "Nro6I71g4-1A",
        "colab_type": "code",
        "colab": {}
      },
      "source": [
        "fig, ax = plt.subplots(num=None, figsize=(14, 6), dpi=80, facecolor='w', edgecolor='k')\n",
        "size = len(data_healthy_fft)\n",
        "ax.plot(range(0,size), data_healthy_fft[:,0].real, '-', color='blue', animated = True, linewidth=1)\n",
        "ax.plot(range(0,size), data_healthy_fft[:,1].imag, '-', color='red', animated = True, linewidth=1)\n",
        "ax.plot(range(0,size), data_healthy_fft[:,2].real, '-', color='green', animated = True, linewidth=1)"
      ],
      "execution_count": 0,
      "outputs": []
    },
    {
      "cell_type": "code",
      "metadata": {
        "id": "E18NSzLL5Axi",
        "colab_type": "code",
        "colab": {}
      },
      "source": [
        "fig, ax = plt.subplots(num=None, figsize=(14, 6), dpi=80, facecolor='w', edgecolor='k')\n",
        "size = len(data_healthy_fft)\n",
        "ax.plot(range(0,size), data_broken_fft[:,0].real, '-', color='blue', animated = True, linewidth=1)\n",
        "ax.plot(range(0,size), data_broken_fft[:,1].imag, '-', color='red', animated = True, linewidth=1)\n",
        "ax.plot(range(0,size), data_broken_fft[:,2].real, '-', color='green', animated = True, linewidth=1)"
      ],
      "execution_count": 0,
      "outputs": []
    },
    {
      "cell_type": "code",
      "metadata": {
        "id": "x3vqTJfp5FQR",
        "colab_type": "code",
        "colab": {}
      },
      "source": [
        "def scaleData(data): \n",
        "    # normalize features\n",
        "    scaler = MinMaxScaler(feature_range=(0, 1))\n",
        "    return scaler.fit_transform(data)\n",
        "\n",
        "data_healthy_scaled = scaleData(data_healthy)\n",
        "data_broken_scaled = scaleData(data_broken)"
      ],
      "execution_count": 0,
      "outputs": []
    },
    {
      "cell_type": "code",
      "metadata": {
        "id": "Ag4O1vHQ5Mlx",
        "colab_type": "code",
        "colab": {}
      },
      "source": [
        "timesteps = 10\n",
        "dim = 3\n",
        "samples = 3000\n",
        "data_healthy_scaled_reshaped = data_healthy_scaled\n",
        "#reshape to (300,10,3)\n",
        "data_healthy_scaled_reshaped.shape = (samples/timesteps,timesteps,dim)"
      ],
      "execution_count": 0,
      "outputs": []
    },
    {
      "cell_type": "code",
      "metadata": {
        "id": "JCbD_qfB5Sty",
        "colab_type": "code",
        "colab": {}
      },
      "source": [
        "losses = []\n",
        " \n",
        "def handleLoss(loss): \n",
        "        global losses\n",
        "        losses+=[loss]\n",
        "        print loss\n",
        " \n",
        "class LossHistory(Callback): \n",
        "    def on_train_begin(self, logs={}): \n",
        "        self.losses = []\n",
        " \n",
        "    def on_batch_end(self, batch, logs={}): \n",
        "        self.losses.append(logs.get('loss'))\n",
        "        handleLoss(logs.get('loss'))"
      ],
      "execution_count": 0,
      "outputs": []
    },
    {
      "cell_type": "code",
      "metadata": {
        "id": "QNQwZ-rP5UVh",
        "colab_type": "code",
        "colab": {}
      },
      "source": [
        "# design network\n",
        " \n",
        "model = Sequential()\n",
        "model.add(LSTM(50,input_shape=(timesteps,dim),return_sequences=True))\n",
        "model.add(LSTM(50,input_shape=(timesteps,dim),return_sequences=True))\n",
        "model.add(LSTM(50,input_shape=(timesteps,dim),return_sequences=True))\n",
        "model.add(LSTM(50,input_shape=(timesteps,dim),return_sequences=True))\n",
        "model.add(LSTM(50,input_shape=(timesteps,dim),return_sequences=True))\n",
        "model.add(LSTM(50,input_shape=(timesteps,dim),return_sequences=True))\n",
        "model.add(LSTM(50,input_shape=(timesteps,dim),return_sequences=True))\n",
        "model.add(LSTM(50,input_shape=(timesteps,dim),return_sequences=True))\n",
        "model.add(LSTM(50,input_shape=(timesteps,dim),return_sequences=True))\n",
        "model.add(LSTM(50,input_shape=(timesteps,dim),return_sequences=True))\n",
        "model.add(LSTM(50,input_shape=(timesteps,dim),return_sequences=True))\n",
        "model.add(Dense(3))\n",
        "model.compile(loss='mae', optimizer='adam')\n",
        " \n",
        "def train(data): \n",
        "    data.shape = (300, 10, 3)\n",
        "    model.fit(data, data, epochs=50, batch_size=72, validation_data=(data, data), verbose=0, shuffle=False,callbacks=[LossHistory()])\n",
        "    data.shape = (3000, 3)\n",
        " \n",
        "def score(data): \n",
        "    data.shape = (300, 10, 3)\n",
        "    yhat =  model.predict(data)\n",
        "    yhat.shape = (3000, 3)\n",
        "    return yhat"
      ],
      "execution_count": 0,
      "outputs": []
    },
    {
      "cell_type": "code",
      "metadata": {
        "id": "mBYPeUF_5fQu",
        "colab_type": "code",
        "colab": {}
      },
      "source": [
        "for i in range(10): \n",
        "     \n",
        "    print \"----------------\"\n",
        "    train(data_healthy_scaled)\n",
        "    yhat_healthy = score(data_healthy_scaled)\n",
        "    yhat_broken = score(data_broken_scaled)\n",
        "    data_healthy_scaled.shape = (3000, 3)\n",
        "    data_broken_scaled.shape = (3000, 3)\n",
        " \n",
        " \n",
        "print \"----------------broken\"\n",
        "train(data_broken_scaled)\n",
        "yhat_healthy = score(data_healthy_scaled)\n",
        "yhat_broken = score(data_broken_scaled)\n",
        "data_healthy_scaled.shape = (3000, 3)\n",
        "data_broken_scaled.shape = (3000, 3)"
      ],
      "execution_count": 0,
      "outputs": []
    },
    {
      "cell_type": "code",
      "metadata": {
        "id": "q5y2my8w5sfp",
        "colab_type": "code",
        "colab": {}
      },
      "source": [
        "fig, ax = plt.subplots(num=None, figsize=(14, 6), dpi=80, facecolor='w', edgecolor='k')\n",
        "size = len(data_healthy_fft)\n",
        "#ax.set_ylim(0,energy.max())\n",
        "ax.plot(range(0,len(losses)), losses, '-', color='blue', animated = True, linewidth=1)\n"
      ],
      "execution_count": 0,
      "outputs": []
    }
  ]
}