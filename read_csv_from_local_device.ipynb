{
  "nbformat": 4,
  "nbformat_minor": 0,
  "metadata": {
    "colab": {
      "name": "read_csv_from_local_device.ipynb",
      "version": "0.3.2",
      "provenance": [],
      "private_outputs": true,
      "include_colab_link": true
    },
    "kernelspec": {
      "name": "python3",
      "display_name": "Python 3"
    },
    "accelerator": "GPU"
  },
  "cells": [
    {
      "cell_type": "markdown",
      "metadata": {
        "id": "view-in-github",
        "colab_type": "text"
      },
      "source": [
        "<a href=\"https://colab.research.google.com/github/LXW4939/2019_demo_public/blob/master/read_csv_from_local_device.ipynb\" target=\"_parent\"><img src=\"https://colab.research.google.com/assets/colab-badge.svg\" alt=\"Open In Colab\"/></a>"
      ]
    },
    {
      "cell_type": "code",
      "metadata": {
        "id": "od9auP9YXhwt",
        "colab_type": "code",
        "colab": {}
      },
      "source": [
        "!wget https://github.com/LXW4939/2019_demo_public/blob/master/data_per200.csv"
      ],
      "execution_count": 0,
      "outputs": []
    },
    {
      "cell_type": "code",
      "metadata": {
        "id": "mHjZhaokhPfq",
        "colab_type": "code",
        "colab": {}
      },
      "source": [
        "!ls"
      ],
      "execution_count": 0,
      "outputs": []
    },
    {
      "cell_type": "markdown",
      "metadata": {
        "id": "Msi-O3VWE8fb",
        "colab_type": "text"
      },
      "source": [
        "点击左边的[代码段] 输出 uploading ， 找到open files from your local file system ,选择插入，即可插入下方代码段"
      ]
    },
    {
      "cell_type": "code",
      "metadata": {
        "id": "BiHulRsXD4Pc",
        "colab_type": "code",
        "colab": {}
      },
      "source": [
        "from google.colab import files\n",
        "\n",
        "uploaded = files.upload()\n",
        "\n",
        "for fn in uploaded.keys():\n",
        "  print('User uploaded file \"{name}\" with length {length} bytes'.format(\n",
        "      name=fn, length=len(uploaded[fn])))"
      ],
      "execution_count": 0,
      "outputs": []
    },
    {
      "cell_type": "markdown",
      "metadata": {
        "id": "FJEScRsaFdAn",
        "colab_type": "text"
      },
      "source": [
        "点击[run]， 选择本地的文件即可上传成功，此时若直接使用pd.read_csv()可能会报错，进过测试可使用df = pd.read_csv(io.StringIO(uploaded['data_per200.csv'].decode('utf-8')))进行读取csv文件"
      ]
    },
    {
      "cell_type": "code",
      "metadata": {
        "id": "ma3tJVZGnNpU",
        "colab_type": "code",
        "colab": {}
      },
      "source": [
        "print (uploaded['data_per200.csv'][:10].decode('utf-8') + '...')"
      ],
      "execution_count": 0,
      "outputs": []
    },
    {
      "cell_type": "code",
      "metadata": {
        "id": "cpg68V60eTaM",
        "colab_type": "code",
        "colab": {}
      },
      "source": [
        "import pandas as pd\n",
        "import io\n",
        "\n",
        "df = pd.read_csv(io.StringIO(uploaded['data_per200.csv'].decode('utf-8')))\n",
        "df.head()"
      ],
      "execution_count": 0,
      "outputs": []
    },
    {
      "cell_type": "code",
      "metadata": {
        "id": "plPOj-V2Ebwq",
        "colab_type": "code",
        "colab": {}
      },
      "source": [
        "data = pd.read_csv('data_per200.csv')"
      ],
      "execution_count": 0,
      "outputs": []
    },
    {
      "cell_type": "code",
      "metadata": {
        "id": "wvvHw0idfbnK",
        "colab_type": "code",
        "colab": {}
      },
      "source": [
        "data.head()"
      ],
      "execution_count": 0,
      "outputs": []
    },
    {
      "cell_type": "code",
      "metadata": {
        "id": "evFjHyeDGE0i",
        "colab_type": "code",
        "colab": {}
      },
      "source": [
        "from sklearn import datasets\n",
        "import numpy as np\n",
        "import sklearn\n",
        "import time\n",
        "import pandas as pd\n",
        "import tensorflow as tf\n",
        "from tensorflow.contrib.tensor_forest.python import tensor_forest\n",
        "from tensorflow.python.ops import resources"
      ],
      "execution_count": 0,
      "outputs": []
    },
    {
      "cell_type": "code",
      "metadata": {
        "id": "FthS3jZIG5f7",
        "colab_type": "code",
        "colab": {}
      },
      "source": [
        "import os\n",
        "#os.environ[\"CUDA_VISIBLE_DEVICES\"] = \"\"\n",
        "# Import data\n",
        "start = time.time()\n",
        "data = pd.read_csv('./data_per200.csv')\n",
        "# Extract feature and target np arrays (inputs for placeholders)\n",
        "input_x = data.iloc[:, 0:-1]\n",
        "input_y = data.iloc[:, -1]\n",
        "# Splitting the dataset into the Training set and Test set\n",
        "from sklearn.model_selection import train_test_split\n",
        "X_train, X_test, y_train_label, y_test_label = train_test_split(input_x, input_y, test_size = 0.25, random_state = 0)\n",
        "class_name = list(set(y_train_label))\n",
        "class_nums = len(class_name)\n",
        "class_dict={}\n",
        "for idx, name in enumerate(class_name):\n",
        "    class_dict[name] = idx\n",
        "y_train = y_train_label.map(class_dict)\n",
        "y_test = y_test_label.map(class_dict)\n",
        "\n",
        "# Parameters\n",
        "num_steps = 2000  # Total steps to train\n",
        "num_classes = len(set(input_y))\n",
        "num_features = len(data.columns) - 1\n",
        "num_trees = 500\n",
        "max_nodes = 1000\n",
        "\n",
        "# Input and Target placeholders\n",
        "X = tf.placeholder(tf.float32, shape=[None, num_features])\n",
        "Y = tf.placeholder(tf.int64, shape=[None])\n",
        "# Random Forest Parameters\n",
        "hparams = tensor_forest.ForestHParams(num_classes=num_classes, num_features=num_features, num_trees=num_trees, max_nodes=max_nodes).fill()\n",
        "# Build the Random Forest\n",
        "forest_graph = tensor_forest.RandomForestGraphs(hparams)\n",
        "# Get training graph and loss\n",
        "train_op = forest_graph.training_graph(X, Y)\n",
        "loss_op = forest_graph.training_loss(X, Y)\n",
        "\n",
        "# Measure the accuracy\n",
        "infer_op, _, _ = forest_graph.inference_graph(X)\n",
        "correct_prediction = tf.equal(tf.argmax(infer_op, 1), tf.cast(Y, tf.int64))\n",
        "accuracy_op = tf.reduce_mean(tf.cast(correct_prediction, tf.float32))\n",
        "# Initialize the variables (i.e. assign their default value) and forest resources\n",
        "init_vars = tf.group(tf.global_variables_initializer(), resources.initialize_resources(resources.shared_resources()))\n",
        "# Start TensorFlow session\n",
        "sess = tf.Session()\n",
        "# Run the initializer\n",
        "sess.run(init_vars)\n",
        "# Training\n",
        "for i in range(1, num_steps + 1):\n",
        "    _, l = sess.run([train_op, loss_op], feed_dict={X: X_train, Y: y_train})\n",
        "    if i % 50 == 0 or i == 1:\n",
        "        acc = sess.run(accuracy_op, feed_dict={X: X_train, Y: y_train})\n",
        "        print('Step %i, Loss: %f, Acc: %f' % (i, l, acc))\n",
        "# Test Model\n",
        "print(\"Test Accuracy:\", sess.run(accuracy_op, feed_dict={X: X_test, Y: y_test}))\n",
        "end = time.time()\n",
        "print(\"time: \", end - start)"
      ],
      "execution_count": 0,
      "outputs": []
    }
  ]
}